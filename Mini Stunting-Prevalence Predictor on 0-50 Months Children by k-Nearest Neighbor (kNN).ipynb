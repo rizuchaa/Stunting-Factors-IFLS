{
 "cells": [
  {
   "cell_type": "markdown",
   "metadata": {},
   "source": [
    "# **Mini Stunting-Prevalence Predictor on 0-50 Months Children by k-Nearest Neighbor (kNN)**"
   ]
  },
  {
   "cell_type": "markdown",
   "metadata": {},
   "source": [
    "## Import"
   ]
  },
  {
   "cell_type": "markdown",
   "metadata": {},
   "source": [
    "### Import Libraries"
   ]
  },
  {
   "cell_type": "code",
   "execution_count": 85,
   "metadata": {},
   "outputs": [],
   "source": [
    "#Data Organizer\n",
    "import pandas as pd\n",
    "\n",
    "# Plot Maker\n",
    "import seaborn as sns\n",
    "from pylab import rcParams as rcp\n",
    "import matplotlib.pyplot as plt\n",
    "\n",
    "#Model Decision Maker\n",
    "from sklearn.model_selection import train_test_split as tts\n",
    "from sklearn import preprocessing, metrics\n",
    "from sklearn.neighbors import KNeighborsClassifier"
   ]
  },
  {
   "cell_type": "markdown",
   "metadata": {},
   "source": [
    "### Import Data "
   ]
  },
  {
   "cell_type": "code",
   "execution_count": 86,
   "metadata": {},
   "outputs": [],
   "source": [
    "stunt = pd.read_csv('Stunt.csv')\n",
    "stunt = stunt.set_index('pidlink')"
   ]
  },
  {
   "cell_type": "markdown",
   "metadata": {},
   "source": [
    "## Correlation Check"
   ]
  },
  {
   "cell_type": "code",
   "execution_count": 87,
   "metadata": {},
   "outputs": [
    {
     "data": {
      "image/png": "[encoded data removed]",
      "text/plain": [
       "<Figure size 1080x1080 with 2 Axes>"
      ]
     },
     "metadata": {
      "needs_background": "light"
     },
     "output_type": "display_data"
    }
   ],
   "source": [
    "def corr_plot(correlation):\n",
    "    \n",
    "    # init figure size\n",
    "    rcp['figure.figsize'] = 15, 15\n",
    "    fig = plt.figure()\n",
    "    sns.heatmap(correlation.corr(), annot=True, fmt=\".2f\")\n",
    "    plt.show()\n",
    "    \n",
    "# Plot Function\n",
    "corr_plot(stunt)"
   ]
  },
  {
   "cell_type": "markdown",
   "metadata": {},
   "source": [
    "## Data Checker"
   ]
  },
  {
   "cell_type": "markdown",
   "metadata": {},
   "source": [
    "### Full Data"
   ]
  },
  {
   "cell_type": "code",
   "execution_count": 88,
   "metadata": {},
   "outputs": [
    {
     "data": {
      "text/html": [
       "<div>\n",
       "<style scoped>\n",
       "    .dataframe tbody tr th:only-of-type {\n",
       "        vertical-align: middle;\n",
       "    }\n",
       "\n",
       "    .dataframe tbody tr th {\n",
       "        vertical-align: top;\n",
       "    }\n",
       "\n",
       "    .dataframe thead th {\n",
       "        text-align: right;\n",
       "    }\n",
       "</style>\n",
       "<table border=\"1\" class=\"dataframe\">\n",
       "  <thead>\n",
       "    <tr style=\"text-align: right;\">\n",
       "      <th></th>\n",
       "      <th>height</th>\n",
       "      <th>sex</th>\n",
       "      <th>month</th>\n",
       "      <th>zlen</th>\n",
       "      <th>result</th>\n",
       "    </tr>\n",
       "    <tr>\n",
       "      <th>pidlink</th>\n",
       "      <th></th>\n",
       "      <th></th>\n",
       "      <th></th>\n",
       "      <th></th>\n",
       "      <th></th>\n",
       "    </tr>\n",
       "  </thead>\n",
       "  <tbody>\n",
       "    <tr>\n",
       "      <th>1060010</th>\n",
       "      <td>89.1</td>\n",
       "      <td>M</td>\n",
       "      <td>36.0</td>\n",
       "      <td>-1.89</td>\n",
       "      <td>Normal</td>\n",
       "    </tr>\n",
       "    <tr>\n",
       "      <th>1060011</th>\n",
       "      <td>61.9</td>\n",
       "      <td>M</td>\n",
       "      <td>11.0</td>\n",
       "      <td>-5.43</td>\n",
       "      <td>Severely Stunting</td>\n",
       "    </tr>\n",
       "    <tr>\n",
       "      <th>1065104</th>\n",
       "      <td>80.6</td>\n",
       "      <td>F</td>\n",
       "      <td>35.0</td>\n",
       "      <td>-3.65</td>\n",
       "      <td>Severely Stunting</td>\n",
       "    </tr>\n",
       "    <tr>\n",
       "      <th>1085107</th>\n",
       "      <td>87.0</td>\n",
       "      <td>M</td>\n",
       "      <td>36.0</td>\n",
       "      <td>-2.45</td>\n",
       "      <td>Moderately Stunting</td>\n",
       "    </tr>\n",
       "    <tr>\n",
       "      <th>1224106</th>\n",
       "      <td>69.9</td>\n",
       "      <td>M</td>\n",
       "      <td>0.0</td>\n",
       "      <td>10.57</td>\n",
       "      <td>Normal</td>\n",
       "    </tr>\n",
       "    <tr>\n",
       "      <th>...</th>\n",
       "      <td>...</td>\n",
       "      <td>...</td>\n",
       "      <td>...</td>\n",
       "      <td>...</td>\n",
       "      <td>...</td>\n",
       "    </tr>\n",
       "    <tr>\n",
       "      <th>321260045</th>\n",
       "      <td>98.4</td>\n",
       "      <td>F</td>\n",
       "      <td>48.0</td>\n",
       "      <td>-1.01</td>\n",
       "      <td>Normal</td>\n",
       "    </tr>\n",
       "    <tr>\n",
       "      <th>321265203</th>\n",
       "      <td>99.9</td>\n",
       "      <td>M</td>\n",
       "      <td>48.0</td>\n",
       "      <td>-0.82</td>\n",
       "      <td>Normal</td>\n",
       "    </tr>\n",
       "    <tr>\n",
       "      <th>321265204</th>\n",
       "      <td>68.7</td>\n",
       "      <td>F</td>\n",
       "      <td>0.0</td>\n",
       "      <td>10.50</td>\n",
       "      <td>Normal</td>\n",
       "    </tr>\n",
       "    <tr>\n",
       "      <th>321265303</th>\n",
       "      <td>98.0</td>\n",
       "      <td>M</td>\n",
       "      <td>59.0</td>\n",
       "      <td>-2.48</td>\n",
       "      <td>Moderately Stunting</td>\n",
       "    </tr>\n",
       "    <tr>\n",
       "      <th>321265304</th>\n",
       "      <td>57.8</td>\n",
       "      <td>F</td>\n",
       "      <td>0.0</td>\n",
       "      <td>4.65</td>\n",
       "      <td>Normal</td>\n",
       "    </tr>\n",
       "  </tbody>\n",
       "</table>\n",
       "<p>6205 rows × 5 columns</p>\n",
       "</div>"
      ],
      "text/plain": [
       "           height sex  month   zlen               result\n",
       "pidlink                                                 \n",
       "1060010      89.1   M   36.0  -1.89               Normal\n",
       "1060011      61.9   M   11.0  -5.43    Severely Stunting\n",
       "1065104      80.6   F   35.0  -3.65    Severely Stunting\n",
       "1085107      87.0   M   36.0  -2.45  Moderately Stunting\n",
       "1224106      69.9   M    0.0  10.57               Normal\n",
       "...           ...  ..    ...    ...                  ...\n",
       "321260045    98.4   F   48.0  -1.01               Normal\n",
       "321265203    99.9   M   48.0  -0.82               Normal\n",
       "321265204    68.7   F    0.0  10.50               Normal\n",
       "321265303    98.0   M   59.0  -2.48  Moderately Stunting\n",
       "321265304    57.8   F    0.0   4.65               Normal\n",
       "\n",
       "[6205 rows x 5 columns]"
      ]
     },
     "execution_count": 88,
     "metadata": {},
     "output_type": "execute_result"
    }
   ],
   "source": [
    "stunt"
   ]
  },
  {
   "cell_type": "markdown",
   "metadata": {},
   "source": [
    " ###  Stunt Result Legend"
   ]
  },
  {
   "cell_type": "code",
   "execution_count": 89,
   "metadata": {},
   "outputs": [
    {
     "data": {
      "text/html": [
       "<div>\n",
       "<style scoped>\n",
       "    .dataframe tbody tr th:only-of-type {\n",
       "        vertical-align: middle;\n",
       "    }\n",
       "\n",
       "    .dataframe tbody tr th {\n",
       "        vertical-align: top;\n",
       "    }\n",
       "\n",
       "    .dataframe thead th {\n",
       "        text-align: right;\n",
       "    }\n",
       "</style>\n",
       "<table border=\"1\" class=\"dataframe\">\n",
       "  <thead>\n",
       "    <tr style=\"text-align: right;\">\n",
       "      <th></th>\n",
       "      <th>col_0</th>\n",
       "      <th>total</th>\n",
       "    </tr>\n",
       "    <tr>\n",
       "      <th>result_e</th>\n",
       "      <th>result</th>\n",
       "      <th></th>\n",
       "    </tr>\n",
       "  </thead>\n",
       "  <tbody>\n",
       "    <tr>\n",
       "      <th>0</th>\n",
       "      <th>Moderately Stunting</th>\n",
       "      <td>473</td>\n",
       "    </tr>\n",
       "    <tr>\n",
       "      <th>1</th>\n",
       "      <th>Normal</th>\n",
       "      <td>5553</td>\n",
       "    </tr>\n",
       "    <tr>\n",
       "      <th>2</th>\n",
       "      <th>Severely Stunting</th>\n",
       "      <td>179</td>\n",
       "    </tr>\n",
       "  </tbody>\n",
       "</table>\n",
       "</div>"
      ],
      "text/plain": [
       "col_0                         total\n",
       "result_e result                    \n",
       "0        Moderately Stunting    473\n",
       "1        Normal                5553\n",
       "2        Severely Stunting      179"
      ]
     },
     "execution_count": 89,
     "metadata": {},
     "output_type": "execute_result"
    }
   ],
   "source": [
    "le = preprocessing.LabelEncoder()\n",
    "\n",
    "stunt['sex_e']=le.fit_transform(stunt['sex'])\n",
    "\n",
    "stunt['result_e']=le.fit_transform(stunt['result'])\n",
    "\n",
    "pd.crosstab(\n",
    "    index= [stunt['result_e'],stunt['result']],\n",
    "    columns='total'\n",
    ")"
   ]
  },
  {
   "cell_type": "markdown",
   "metadata": {},
   "source": [
    "##  Variable Prediction Process"
   ]
  },
  {
   "cell_type": "markdown",
   "metadata": {},
   "source": [
    "### Set Predictor Dataframe"
   ]
  },
  {
   "cell_type": "code",
   "execution_count": 90,
   "metadata": {},
   "outputs": [
    {
     "data": {
      "text/html": [
       "<div>\n",
       "<style scoped>\n",
       "    .dataframe tbody tr th:only-of-type {\n",
       "        vertical-align: middle;\n",
       "    }\n",
       "\n",
       "    .dataframe tbody tr th {\n",
       "        vertical-align: top;\n",
       "    }\n",
       "\n",
       "    .dataframe thead th {\n",
       "        text-align: right;\n",
       "    }\n",
       "</style>\n",
       "<table border=\"1\" class=\"dataframe\">\n",
       "  <thead>\n",
       "    <tr style=\"text-align: right;\">\n",
       "      <th></th>\n",
       "      <th>result_e</th>\n",
       "      <th>height</th>\n",
       "      <th>sex_e</th>\n",
       "      <th>zlen</th>\n",
       "    </tr>\n",
       "    <tr>\n",
       "      <th>pidlink</th>\n",
       "      <th></th>\n",
       "      <th></th>\n",
       "      <th></th>\n",
       "      <th></th>\n",
       "    </tr>\n",
       "  </thead>\n",
       "  <tbody>\n",
       "    <tr>\n",
       "      <th>1060010</th>\n",
       "      <td>1</td>\n",
       "      <td>89.1</td>\n",
       "      <td>1</td>\n",
       "      <td>-1.89</td>\n",
       "    </tr>\n",
       "    <tr>\n",
       "      <th>1060011</th>\n",
       "      <td>2</td>\n",
       "      <td>61.9</td>\n",
       "      <td>1</td>\n",
       "      <td>-5.43</td>\n",
       "    </tr>\n",
       "    <tr>\n",
       "      <th>1065104</th>\n",
       "      <td>2</td>\n",
       "      <td>80.6</td>\n",
       "      <td>0</td>\n",
       "      <td>-3.65</td>\n",
       "    </tr>\n",
       "    <tr>\n",
       "      <th>1085107</th>\n",
       "      <td>0</td>\n",
       "      <td>87.0</td>\n",
       "      <td>1</td>\n",
       "      <td>-2.45</td>\n",
       "    </tr>\n",
       "    <tr>\n",
       "      <th>1224106</th>\n",
       "      <td>1</td>\n",
       "      <td>69.9</td>\n",
       "      <td>1</td>\n",
       "      <td>10.57</td>\n",
       "    </tr>\n",
       "    <tr>\n",
       "      <th>...</th>\n",
       "      <td>...</td>\n",
       "      <td>...</td>\n",
       "      <td>...</td>\n",
       "      <td>...</td>\n",
       "    </tr>\n",
       "    <tr>\n",
       "      <th>321260045</th>\n",
       "      <td>1</td>\n",
       "      <td>98.4</td>\n",
       "      <td>0</td>\n",
       "      <td>-1.01</td>\n",
       "    </tr>\n",
       "    <tr>\n",
       "      <th>321265203</th>\n",
       "      <td>1</td>\n",
       "      <td>99.9</td>\n",
       "      <td>1</td>\n",
       "      <td>-0.82</td>\n",
       "    </tr>\n",
       "    <tr>\n",
       "      <th>321265204</th>\n",
       "      <td>1</td>\n",
       "      <td>68.7</td>\n",
       "      <td>0</td>\n",
       "      <td>10.50</td>\n",
       "    </tr>\n",
       "    <tr>\n",
       "      <th>321265303</th>\n",
       "      <td>0</td>\n",
       "      <td>98.0</td>\n",
       "      <td>1</td>\n",
       "      <td>-2.48</td>\n",
       "    </tr>\n",
       "    <tr>\n",
       "      <th>321265304</th>\n",
       "      <td>1</td>\n",
       "      <td>57.8</td>\n",
       "      <td>0</td>\n",
       "      <td>4.65</td>\n",
       "    </tr>\n",
       "  </tbody>\n",
       "</table>\n",
       "<p>6205 rows × 4 columns</p>\n",
       "</div>"
      ],
      "text/plain": [
       "           result_e  height  sex_e   zlen\n",
       "pidlink                                  \n",
       "1060010           1    89.1      1  -1.89\n",
       "1060011           2    61.9      1  -5.43\n",
       "1065104           2    80.6      0  -3.65\n",
       "1085107           0    87.0      1  -2.45\n",
       "1224106           1    69.9      1  10.57\n",
       "...             ...     ...    ...    ...\n",
       "321260045         1    98.4      0  -1.01\n",
       "321265203         1    99.9      1  -0.82\n",
       "321265204         1    68.7      0  10.50\n",
       "321265303         0    98.0      1  -2.48\n",
       "321265304         1    57.8      0   4.65\n",
       "\n",
       "[6205 rows x 4 columns]"
      ]
     },
     "execution_count": 90,
     "metadata": {},
     "output_type": "execute_result"
    }
   ],
   "source": [
    "var = stunt[['result_e','height','sex_e','zlen']]\n",
    "var"
   ]
  },
  {
   "cell_type": "code",
   "execution_count": 91,
   "metadata": {},
   "outputs": [],
   "source": [
    "var_x = stunt[['result_e']]\n",
    "var_y = stunt[['height','sex_e','month','zlen']]"
   ]
  },
  {
   "cell_type": "markdown",
   "metadata": {},
   "source": [
    "### Predict Result Using kNN"
   ]
  },
  {
   "cell_type": "code",
   "execution_count": 92,
   "metadata": {},
   "outputs": [],
   "source": [
    "x_train, x_test, y_train, y_test = tts(var_x,var_y, test_size = 0.3)"
   ]
  },
  {
   "cell_type": "code",
   "execution_count": 93,
   "metadata": {},
   "outputs": [],
   "source": [
    "knn = KNeighborsClassifier(n_neighbors=5)\n",
    "\n",
    "knn.fit(y_train,x_train.values.ravel())\n",
    "\n",
    "pred = knn.predict(y_test)"
   ]
  },
  {
   "cell_type": "markdown",
   "metadata": {},
   "source": [
    "### Accuracy Checker"
   ]
  },
  {
   "cell_type": "code",
   "execution_count": 94,
   "metadata": {},
   "outputs": [
    {
     "name": "stdout",
     "output_type": "stream",
     "text": [
      " Metrics Accuracy: 0.9946294307196563\n"
     ]
    }
   ],
   "source": [
    "print(\" Metrics Accuracy:\",metrics.accuracy_score(x_test, pred))"
   ]
  }
 ],
 "metadata": {
  "kernelspec": {
   "display_name": "Python 3",
   "language": "python",
   "name": "python3"
  },
  "language_info": {
   "codemirror_mode": {
    "name": "ipython",
    "version": 3
   },
   "file_extension": ".py",
   "mimetype": "text/x-python",
   "name": "python",
   "nbconvert_exporter": "python",
   "pygments_lexer": "ipython3",
   "version": "3.8.5"
  },
  "latex_envs": {
   "LaTeX_envs_menu_present": true,
   "autoclose": false,
   "autocomplete": true,
   "bibliofile": "biblio.bib",
   "cite_by": "apalike",
   "current_citInitial": 1,
   "eqLabelWithNumbers": true,
   "eqNumInitial": 1,
   "hotkeys": {
    "equation": "Ctrl-E",
    "itemize": "Ctrl-I"
   },
   "labels_anchors": false,
   "latex_user_defs": false,
   "report_style_numbering": false,
   "user_envs_cfg": false
  },
  "toc": {
   "base_numbering": 1,
   "nav_menu": {},
   "number_sections": true,
   "sideBar": true,
   "skip_h1_title": false,
   "title_cell": "Table of Contents",
   "title_sidebar": "Contents",
   "toc_cell": false,
   "toc_position": {},
   "toc_section_display": true,
   "toc_window_display": true
  },
  "varInspector": {
   "cols": {
    "lenName": 16,
    "lenType": 16,
    "lenVar": 40
   },
   "kernels_config": {
    "python": {
     "delete_cmd_postfix": "",
     "delete_cmd_prefix": "del ",
     "library": "var_list.py",
     "varRefreshCmd": "print(var_dic_list())"
    },
    "r": {
     "delete_cmd_postfix": ") ",
     "delete_cmd_prefix": "rm(",
     "library": "var_list.r",
     "varRefreshCmd": "cat(var_dic_list()) "
    }
   },
   "types_to_exclude": [
    "module",
    "function",
    "builtin_function_or_method",
    "instance",
    "_Feature"
   ],
   "window_display": false
  }
 },
 "nbformat": 4,
 "nbformat_minor": 4
}
